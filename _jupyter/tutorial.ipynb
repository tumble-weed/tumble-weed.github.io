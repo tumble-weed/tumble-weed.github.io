{
 "cells": [
  {
   "cell_type": "markdown",
   "metadata": {},
   "source": [
    "<span style='color:chartreuse'>hi</span>"
   ]
  },
  {
   "cell_type": "markdown",
   "metadata": {},
   "source": [
    "** Use Case **<br>\n",
    "\n",
    "Lets say we have 2 different classes, and and we want to store objects of these to disk.<br>\n",
    "I consider choosing between `pickle` (a popular choice for serializing binary data), `JSON` (human readable, and suited to storing information that may be considered a document)  and `jsonpickle`"
   ]
  },
  {
   "cell_type": "markdown",
   "metadata": {},
   "source": [
    "make `Obja` of type `a`"
   ]
  },
  {
   "cell_type": "code",
   "execution_count": 9,
   "metadata": {},
   "outputs": [],
   "source": [
    "import import_ipynb\n",
    "from classes import a\n",
    "Obja = a()"
   ]
  },
  {
   "cell_type": "markdown",
   "metadata": {},
   "source": [
    " use `pickle` to  write it to file `file1.pkl`"
   ]
  },
  {
   "cell_type": "code",
   "execution_count": 10,
   "metadata": {
    "code_folding": [
     2
    ]
   },
   "outputs": [],
   "source": [
    "import pickle\n",
    "with open('file1.pkl','wb') as f:\n",
    "    pickle.dump(Obja,f)\n",
    "\n",
    "    pass"
   ]
  },
  {
   "cell_type": "markdown",
   "metadata": {},
   "source": [
    "use `json` to write it `file1.json`"
   ]
  },
  {
   "cell_type": "markdown",
   "metadata": {},
   "source": [
    "** I forgot which object was stored in the file **<br>\n",
    "\n",
    "I make a mistake and try to read in an object of `class b`"
   ]
  },
  {
   "cell_type": "code",
   "execution_count": 2,
   "metadata": {},
   "outputs": [
    {
     "name": "stdout",
     "output_type": "stream",
     "text": [
      "importing Jupyter notebook from classes.ipynb\n"
     ]
    }
   ],
   "source": [
    "%reset -f\n",
    "import import_ipynb\n",
    "from classes import b"
   ]
  },
  {
   "cell_type": "code",
   "execution_count": 3,
   "metadata": {},
   "outputs": [],
   "source": [
    "import pickle\n",
    "with open('file1.pkl','rb') as f:\n",
    "    Objb2 = pickle.load(f)\n",
    "    pass\n"
   ]
  },
  {
   "cell_type": "markdown",
   "metadata": {},
   "source": [
    "This throws an error, because I try to read an attribute `string2` that is not present in `Objb2`. This is because I expected `Objb2` to be of type `b` but actually it is of type `a`"
   ]
  },
  {
   "cell_type": "code",
   "execution_count": 4,
   "metadata": {},
   "outputs": [
    {
     "ename": "AttributeError",
     "evalue": "'a' object has no attribute 'string2'",
     "output_type": "error",
     "traceback": [
      "\u001b[0;31m---------------------------------------------------------------------------\u001b[0m",
      "\u001b[0;31mAttributeError\u001b[0m                            Traceback (most recent call last)",
      "\u001b[0;32m<ipython-input-4-f975cff131ae>\u001b[0m in \u001b[0;36m<module>\u001b[0;34m()\u001b[0m\n\u001b[0;32m----> 1\u001b[0;31m \u001b[0mObjb2\u001b[0m\u001b[0;34m.\u001b[0m\u001b[0mstring2\u001b[0m\u001b[0;34m\u001b[0m\u001b[0m\n\u001b[0m",
      "\u001b[0;31mAttributeError\u001b[0m: 'a' object has no attribute 'string2'"
     ]
    }
   ],
   "source": [
    "Objb2.string2"
   ]
  },
  {
   "cell_type": "markdown",
   "metadata": {},
   "source": [
    "There is nothing human readable in the file that we can tell what the actual type of `Objb2` is . "
   ]
  },
  {
   "cell_type": "code",
   "execution_count": 34,
   "metadata": {
    "scrolled": false
   },
   "outputs": [
    {
     "name": "stdout",
     "output_type": "stream",
     "text": [
      "b'\\x80\\x03cclasses\\na\\nq\\x00)\\x81q\\x01}q\\x02(X\\x07\\x00\\x00\\x00nparrayq\\x03cnumpy.core.multiarray\\n_reconstruct\\nq\\x04cnumpy\\nndarray\\nq\\x05K\\x00\\x85q\\x06C\\x01bq\\x07\\x87q\\x08Rq\\t(K\\x01Kd\\x85q\\ncnumpy\\ndtype\\nq\\x0bX\\x02\\x00\\x00\\x00f8q\\x0cK\\x00K\\x01\\x87q\\rRq\\x0e(K\\x03X\\x01\\x00\\x00\\x00<q\\x0fNNNJ\\xff\\xff\\xff\\xffJ\\xff\\xff\\xff\\xffK\\x00tq\\x10b\\x89B \\x03\\x00\\x00\\xc9\\xd7\\xeeA\\x03\\x90\\xed?0=\\xbb\\x05;\\xe1\\xe0?\\x84\\x9e\\xa0\\xb0\\xc2\\'\\xe5?6U\\xa7\\xf4I6\\xee?`\\xdf\\xc2\\x1d\\x97\\x93\\x97?\\xd8\\xe6\\xc0\\x141\\xde\\xdc?\\xf4\\xba\\xc0\\xae\\xb7\\xfd\\xcb?\\r\\x17X\\x06\\xd8a\\xec?\\x91\\x8b\\xde\\xec\\xeb\\xb6\\xe9?J\\xb6H\\x83\\xcb\\x9e\\xd1?\\xc0N\\xdb\\xe8L\\xf0\\xaf?#pZ$ky\\xee?\\xe8\\xd8\\xdd\\xc5\\xaf\\xf0\\xcd?\\xc8(A\\xcd\\xce\\xc2\\xe9?7\\x919W\\xfah\\xe0?\\xbb\\x0e\\xb0O\\xed\\xa3\\xe1?\\x9cB\\x1e\\xfa\\xc6c\\xed?\\xd0\\x08\\\\}\\xf6\\xb0\\xcf?tp\\xcb\\x86\\x1f\\xd9\\xe2?X%\"\\xd8\\xb1;\\xc8?\\xb7\\xe2H\\xbf\\x94\\xbe\\xee?\\xe4\\xdbg\\xc8+9\\xed?\\xf0\\x98\\xde\\x0e>\\xd0\\xa5?\\xb4\\xac\\x0b\\\\z\\x00\\xeb?f!\\xdd X]\\xe0?\\xb36y/\\x1c\\x02\\xec?02\\xd0]s\\x9b\\xe0?\\x80kG\\x07\\xe9j\\x95?Wx\\x1d7\\x85\\xa8\\xe9?\\x8c\\xb6\\x8c\\xca=o\\xd3?J\\xd6f\\xe9Hf\\xe5?+\\xa9\\x86N\\x97\\x1b\\xed?\\xba\\x9f\\xd1e\\xd9\\x1c\\xda?.]W\\xa1\\n\\x8a\\xdf?mS?s\\xe8\\x1f\\xee?\\xf4u$\\x8c\\xe1U\\xde?\\xe2z<\\x08k\\x10\\xda?\\x97C_\\x1e\\x8e\\xe6\\xec?\\xfa\\x16\\xec\\xe5h!\\xe1?\\x07S&I\\x0c\\xb4\\xe0?i\\xee\\xc9l\\x08\\xad\\xe9?\\xab\\xc0\\x7f+\\x817\\xea?\\xea\\x0b]\\xf4U~\\xe8?\\xab\\xff\\xa2f\\'\\xe3\\xe0?\\x96\\xc18nVR\\xd0?\\x96\\xd7\\xe9\\xa7\\xe0H\\xe2?R\\x06sg\\xb6l\\xd7?\\x12zH\\xf2Fi\\xd2?\\x80\\xcf\\x95\\xec e\\xe4? \\x8fa\\xa0\\xb8\\x05\\xe2?P\\xd8\\xa6\\xeb{F\\xcf?\\xf7r]$\\xf3c\\xe3?@m\\xa2L\\xd5\\xf8\\xca?:\\x95\\xa6\\xfe\\xb8r\\xed?\\x8c\\x1f\\x85\\x17\\xbea\\xef?\\xe0K\\xa5\\x05\\x83\\xac\\xaa?T,\\x9a; \\xd6\\xdc?TJ\\x16\\x86\\x83\\xbf\\xc9?\\xb3\\x1e\\x89c\\x83\\xa5\\xe6?\\x80\\xf1\\xe8\\xa4\\x81\\xf1\\xbf?D\\x86\\x02\\xe9\\x0b/\\xeb?D\\x83\\xa0\\r\\xf5p\\xc8?\\xcc\\xe0/$\\xd7\\xd1\\xc7?\\xc4\\x1a\\xa9\\tw\\xd2\\xec?\\xbc\\xe2\\x88\\xe4o\\x1a\\xe0?#\\x7f\\xa0\\x91\\x8f7\\xed?toQ\\xa2o[\\xca?a\\xa4x\\xf1\\x0e\\x10\\xe1?\\x81\\x1e,\\xb0\\xf1%\\xe3?,[\\xe8I\\xfdz\\xcd?P\\x90w\\x1b\\x14\\xef\\xb8?\\x1c\\xfd\\xd9\\x1f\\x8fS\\xcf?\\r\\\\\\xcc\\x94\\xdaE\\xe6?p\\xbf\\x1a~W2\\xac?\\\\+!\\x00\\xed:\\xd7?`\\x13\\x11\\xa0\\x8c\\r\\xe9?\\xe0\\x15h\\xb6\\x8b\\xa1\\xa4?\\xa8\\x03\\xf2\\x03\\x91\\x7f\\xe4?\\xaek\\xa3\\x8d\\x1e\\xb8\\xdf?l\\xab\\xbdaA\\x9b\\xdf?\\x18FP\\xb0Y\\xb0\\xe1?\\x96\\xf0w\\\\\\xef\\x82\\xe9?y)\\x8f\\x94\\x80\\x7f\\xe2?\\xa8\\xcc\\x9e\\x88\\x17\\xf5\\xd8?rb\\xba?\\xac\\x8d\\xd9?f\\xf6R\\x88\\x18\\x98\\xef?\\xbcL=!\\xbb\\x9d\\xcc?\\xfdk\\x10?;b\\xec?\\xe2U\\x1e\\x99\\x11\\xa1\\xd5?\\xbfl\\xd4\\xe5\\x84S\\xed?9x&\\x16 \\xe8\\xef?\\xd4T\\xb8Tr\\xc9\\xd1?\\x00\\xb7\\x10\\xedP@\\x80?\\xd4W\\xaf\\x92t:\\xca?\\xe2K\\xcf\\xeeZl\\xe8?\\xa0$\\x01\\x87n)\\xcb?@\\xd9D7\\xbfj\\xd7?6\\xe1\\xda\\x83ae\\xe0?\\xe4\\x9c*\\xf8(\\xec\\xef?\\x95jx\\xd5\\x87\\xfc\\xee?q\\x11tq\\x12bX\\x06\\x00\\x00\\x00stringq\\x13X\\x0f\\x00\\x00\\x00This is class aq\\x14ub.'\n"
     ]
    }
   ],
   "source": [
    "with open('file1.pkl','rb') as f:\n",
    "    print(f.read())"
   ]
  },
  {
   "cell_type": "markdown",
   "metadata": {},
   "source": [
    "hmm, Could we have used `json` to serialize the Object?"
   ]
  },
  {
   "cell_type": "code",
   "execution_count": 13,
   "metadata": {},
   "outputs": [],
   "source": [
    "%reset -f\n",
    "from classes import a\n",
    "Obja = a()"
   ]
  },
  {
   "cell_type": "code",
   "execution_count": 14,
   "metadata": {},
   "outputs": [],
   "source": [
    "import json"
   ]
  },
  {
   "cell_type": "markdown",
   "metadata": {},
   "source": [
    "Nope! We find out the `Obja` is not serializable."
   ]
  },
  {
   "cell_type": "code",
   "execution_count": 15,
   "metadata": {
    "scrolled": false
   },
   "outputs": [
    {
     "ename": "TypeError",
     "evalue": "Object of type 'a' is not JSON serializable",
     "output_type": "error",
     "traceback": [
      "\u001b[0;31m---------------------------------------------------------------------------\u001b[0m",
      "\u001b[0;31mTypeError\u001b[0m                                 Traceback (most recent call last)",
      "\u001b[0;32m<ipython-input-15-6ac8abba8891>\u001b[0m in \u001b[0;36m<module>\u001b[0;34m()\u001b[0m\n\u001b[1;32m      1\u001b[0m \u001b[0;32mimport\u001b[0m \u001b[0mjson\u001b[0m\u001b[0;34m\u001b[0m\u001b[0m\n\u001b[1;32m      2\u001b[0m \u001b[0;32mwith\u001b[0m \u001b[0mopen\u001b[0m\u001b[0;34m(\u001b[0m\u001b[0;34m'file1.json'\u001b[0m\u001b[0;34m,\u001b[0m\u001b[0;34m'wb'\u001b[0m\u001b[0;34m)\u001b[0m \u001b[0;32mas\u001b[0m \u001b[0mf\u001b[0m\u001b[0;34m:\u001b[0m\u001b[0;34m\u001b[0m\u001b[0m\n\u001b[0;32m----> 3\u001b[0;31m     \u001b[0mjson\u001b[0m\u001b[0;34m.\u001b[0m\u001b[0mdump\u001b[0m\u001b[0;34m(\u001b[0m\u001b[0mObja\u001b[0m\u001b[0;34m,\u001b[0m\u001b[0mf\u001b[0m\u001b[0;34m)\u001b[0m\u001b[0;34m\u001b[0m\u001b[0m\n\u001b[0m",
      "\u001b[0;32m~/anaconda3/lib/python3.6/json/__init__.py\u001b[0m in \u001b[0;36mdump\u001b[0;34m(obj, fp, skipkeys, ensure_ascii, check_circular, allow_nan, cls, indent, separators, default, sort_keys, **kw)\u001b[0m\n\u001b[1;32m    177\u001b[0m     \u001b[0;31m# could accelerate with writelines in some versions of Python, at\u001b[0m\u001b[0;34m\u001b[0m\u001b[0;34m\u001b[0m\u001b[0m\n\u001b[1;32m    178\u001b[0m     \u001b[0;31m# a debuggability cost\u001b[0m\u001b[0;34m\u001b[0m\u001b[0;34m\u001b[0m\u001b[0m\n\u001b[0;32m--> 179\u001b[0;31m     \u001b[0;32mfor\u001b[0m \u001b[0mchunk\u001b[0m \u001b[0;32min\u001b[0m \u001b[0miterable\u001b[0m\u001b[0;34m:\u001b[0m\u001b[0;34m\u001b[0m\u001b[0m\n\u001b[0m\u001b[1;32m    180\u001b[0m         \u001b[0mfp\u001b[0m\u001b[0;34m.\u001b[0m\u001b[0mwrite\u001b[0m\u001b[0;34m(\u001b[0m\u001b[0mchunk\u001b[0m\u001b[0;34m)\u001b[0m\u001b[0;34m\u001b[0m\u001b[0m\n\u001b[1;32m    181\u001b[0m \u001b[0;34m\u001b[0m\u001b[0m\n",
      "\u001b[0;32m~/anaconda3/lib/python3.6/json/encoder.py\u001b[0m in \u001b[0;36m_iterencode\u001b[0;34m(o, _current_indent_level)\u001b[0m\n\u001b[1;32m    435\u001b[0m                     \u001b[0;32mraise\u001b[0m \u001b[0mValueError\u001b[0m\u001b[0;34m(\u001b[0m\u001b[0;34m\"Circular reference detected\"\u001b[0m\u001b[0;34m)\u001b[0m\u001b[0;34m\u001b[0m\u001b[0m\n\u001b[1;32m    436\u001b[0m                 \u001b[0mmarkers\u001b[0m\u001b[0;34m[\u001b[0m\u001b[0mmarkerid\u001b[0m\u001b[0;34m]\u001b[0m \u001b[0;34m=\u001b[0m \u001b[0mo\u001b[0m\u001b[0;34m\u001b[0m\u001b[0m\n\u001b[0;32m--> 437\u001b[0;31m             \u001b[0mo\u001b[0m \u001b[0;34m=\u001b[0m \u001b[0m_default\u001b[0m\u001b[0;34m(\u001b[0m\u001b[0mo\u001b[0m\u001b[0;34m)\u001b[0m\u001b[0;34m\u001b[0m\u001b[0m\n\u001b[0m\u001b[1;32m    438\u001b[0m             \u001b[0;32myield\u001b[0m \u001b[0;32mfrom\u001b[0m \u001b[0m_iterencode\u001b[0m\u001b[0;34m(\u001b[0m\u001b[0mo\u001b[0m\u001b[0;34m,\u001b[0m \u001b[0m_current_indent_level\u001b[0m\u001b[0;34m)\u001b[0m\u001b[0;34m\u001b[0m\u001b[0m\n\u001b[1;32m    439\u001b[0m             \u001b[0;32mif\u001b[0m \u001b[0mmarkers\u001b[0m \u001b[0;32mis\u001b[0m \u001b[0;32mnot\u001b[0m \u001b[0;32mNone\u001b[0m\u001b[0;34m:\u001b[0m\u001b[0;34m\u001b[0m\u001b[0m\n",
      "\u001b[0;32m~/anaconda3/lib/python3.6/json/encoder.py\u001b[0m in \u001b[0;36mdefault\u001b[0;34m(self, o)\u001b[0m\n\u001b[1;32m    178\u001b[0m         \"\"\"\n\u001b[1;32m    179\u001b[0m         raise TypeError(\"Object of type '%s' is not JSON serializable\" %\n\u001b[0;32m--> 180\u001b[0;31m                         o.__class__.__name__)\n\u001b[0m\u001b[1;32m    181\u001b[0m \u001b[0;34m\u001b[0m\u001b[0m\n\u001b[1;32m    182\u001b[0m     \u001b[0;32mdef\u001b[0m \u001b[0mencode\u001b[0m\u001b[0;34m(\u001b[0m\u001b[0mself\u001b[0m\u001b[0;34m,\u001b[0m \u001b[0mo\u001b[0m\u001b[0;34m)\u001b[0m\u001b[0;34m:\u001b[0m\u001b[0;34m\u001b[0m\u001b[0m\n",
      "\u001b[0;31mTypeError\u001b[0m: Object of type 'a' is not JSON serializable"
     ]
    }
   ],
   "source": [
    "import json\n",
    "with open('file1.json','wb') as f:\n",
    "    json.dump(Obja,f)"
   ]
  },
  {
   "cell_type": "markdown",
   "metadata": {},
   "source": [
    "Let us try `jsonpickle` then...<br>\n",
    "Remember to open the file in `w` mode and not `wb` mode as `encode` produces a string"
   ]
  },
  {
   "cell_type": "code",
   "execution_count": 26,
   "metadata": {},
   "outputs": [],
   "source": [
    "import jsonpickle\n",
    "Obja_json = jsonpickle.encode(Obja)\n",
    "with open('file1.json','w') as f:\n",
    "    f.write(Obja_json)"
   ]
  },
  {
   "cell_type": "markdown",
   "metadata": {},
   "source": [
    "And then lets try to get it back from the file. <br>\n",
    "But no! we hit a snag"
   ]
  },
  {
   "cell_type": "code",
   "execution_count": 30,
   "metadata": {},
   "outputs": [],
   "source": [
    "with open('file1.json','r') as f:\n",
    "    Obja_json2 = f.read()\n",
    "Obja2 = jsonpickle.decode(Obja_json2)"
   ]
  },
  {
   "cell_type": "markdown",
   "metadata": {},
   "source": [
    "Turns out a keyword `unpicklable=False` needs to be added while `encode`ing for the object to be properly `decode`ble"
   ]
  },
  {
   "cell_type": "code",
   "execution_count": 28,
   "metadata": {},
   "outputs": [],
   "source": [
    "Obja_json = jsonpickle.encode(Obja,unpicklable=False)\n",
    "with open('file1.json','w') as f:\n",
    "    f.write(Obja_json)"
   ]
  },
  {
   "cell_type": "markdown",
   "metadata": {},
   "source": [
    "This runs without a snag."
   ]
  },
  {
   "cell_type": "code",
   "execution_count": 29,
   "metadata": {},
   "outputs": [],
   "source": [
    "with open('file1.json','r') as f:\n",
    "    Obja_json2 = f.read()\n",
    "Obja2 = jsonpickle.decode(Obja_json2)"
   ]
  },
  {
   "cell_type": "markdown",
   "metadata": {},
   "source": [
    "So lets see what is there in the file, we already noticed that we seem to be operating in `w` and not `wb` anymore. <br>\n",
    "Wow! the content can be read directly off the file"
   ]
  },
  {
   "cell_type": "code",
   "execution_count": 31,
   "metadata": {},
   "outputs": [
    {
     "name": "stdout",
     "output_type": "stream",
     "text": [
      "{\"nparray\": null, \"string\": \"This is class a\"}\n"
     ]
    }
   ],
   "source": [
    "with open('file1.json','r') as f:\n",
    "    print(f.read())"
   ]
  }
 ],
 "metadata": {
  "kernelspec": {
   "display_name": "Python 3",
   "language": "python",
   "name": "python3"
  },
  "language_info": {
   "codemirror_mode": {
    "name": "ipython",
    "version": 3
   },
   "file_extension": ".py",
   "mimetype": "text/x-python",
   "name": "python",
   "nbconvert_exporter": "python",
   "pygments_lexer": "ipython3",
   "version": "3.6.5"
  }
 },
 "nbformat": 4,
 "nbformat_minor": 2
}
